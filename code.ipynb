{
 "cells": [
  {
   "cell_type": "code",
   "execution_count": 8,
   "metadata": {},
   "outputs": [],
   "source": [
    "%matplotlib inline\n",
    "\n",
    "import os\n",
    "\n",
    "import pandas as pd\n",
    "import tqdm\n",
    "import networkx as nx\n",
    "\n",
    "from scipy import interpolate\n",
    "from scipy.stats import erlang\n",
    "from scipy.integrate import odeint\n",
    "\n",
    "import numpy as np\n",
    "import pandas as pd\n",
    "\n",
    "from matplotlib import ticker\n",
    "import matplotlib.pyplot as plt\n",
    "from matplotlib import cm\n",
    "\n",
    "import tqdm\n",
    "\n",
    "\n",
    "def init_fig(aspect=(4,4),fontsize=12):\n",
    "    plt.rc('font', family='serif')\n",
    "    plt.rc('xtick', labelsize=fontsize)\n",
    "    plt.rc('ytick', labelsize=fontsize)\n",
    "    plt.rc('axes', labelsize=fontsize)\n",
    "    params = {'legend.fontsize': 'larger',\n",
    "              'legend.handlelength': 2}\n",
    "    plt.rcParams.update(params)\n",
    "\n",
    "    fig = plt.figure(figsize=aspect)\n",
    "    ax = fig.add_subplot(1, 1, 1)\n",
    "    return ax,fig\n",
    "\n"
   ]
  },
  {
   "cell_type": "markdown",
   "metadata": {},
   "source": [
    "# Models"
   ]
  },
  {
   "cell_type": "code",
   "execution_count": 117,
   "metadata": {},
   "outputs": [],
   "source": [
    "INIT_SUSCEPTIBLE = 0.002\n",
    "SEIR_y0 = [1-INIT_SUSCEPTIBLE,INIT_SUSCEPTIBLE/2,INIT_SUSCEPTIBLE/2,0]\n",
    "SIR_y0 = [1-INIT_SUSCEPTIBLE,INIT_SUSCEPTIBLE,0]\n",
    "SEIR_erlang_y0 = [1-INIT_SUSCEPTIBLE,INIT_SUSCEPTIBLE/4,INIT_SUSCEPTIBLE/4,INIT_SUSCEPTIBLE/4,INIT_SUSCEPTIBLE/4,0]\n",
    "\n",
    "def SIR_model(y,t,config,rfunc):\n",
    "    \"\"\"\n",
    "    SIR model\n",
    "    @y,t: - variables for the differential equations\n",
    "    @config: include - rates beta,gamma for differential equations\n",
    "    @rfunuc: a function that maps time to viral reproduction rate \n",
    "    \"\"\"\n",
    "    S,I,R = y\n",
    "    Rt = rfunc(t)\n",
    "    beta,gamma = config[\"beta\"],config[\"gamma\"]\n",
    "    dydt = [-Rt*beta * (I*S),\n",
    "            Rt*beta * (I*S) - gamma*I, \n",
    "            gamma*I]\n",
    "    return dydt\n",
    "\n",
    "def SEIR_model(y,t,config,rfunc):\n",
    "    \"\"\"\n",
    "    SEIR model\n",
    "    @y,t: - variables for the differential equations\n",
    "    @config: include - rates beta,gamma for differential equations\n",
    "    @rfunuc: a function that maps time to viral reproduction rate \n",
    "    \"\"\"\n",
    "    S,E,I,R = y\n",
    "    Tinc,Tinf = config[\"Tinc\"],config[\"Tinf\"]\n",
    "    Rt = rfunc(t)\n",
    "    dydt = [-Rt/Tinf * (I*S),\n",
    "            Rt/Tinf * (I*S) - (1/Tinc)*E, \n",
    "            (1/Tinc)*E - (1/Tinf)*I,\n",
    "            (1/Tinf)*I]\n",
    "    return dydt\n",
    "\n",
    "def SEIR_erlang_model(y,t,config,rfunc):\n",
    "    \"\"\"\n",
    "    SEIR model with erlang delays (shape 2) between exposure and infection, and infection and recovery\n",
    "    @y,t: - variables for the differential equations\n",
    "    @config: include - rates beta,gamma for differential equations\n",
    "    @rfunuc: a function that maps time to viral reproduction rate \n",
    "    \"\"\"\n",
    "    S,E1,E2,I1,I2,R = y\n",
    "    Tinc,Tinf = config[\"Tinc\"]/2,config[\"Tinf\"]/2\n",
    "    Rt = rfunc(t)\n",
    "    dydt = [0,#-.5*Rt/Tinf * (I1+I2)*S,\n",
    "            .5*Rt/Tinf * (I1+I2)*S - (1/Tinc)*E1, \n",
    "            (1/Tinc)*(E1-E2),\n",
    "            (1/Tinc)*E2 - (1/Tinf)*I1,\n",
    "            (1/Tinf)*(I1-I2),\n",
    "            (1/Tinf)*I2]\n",
    "    return dydt\n",
    "\n",
    "def get_erlang_X_2_groups(X,leakage,phi=1):\n",
    "    \"\"\"\n",
    "    This fuction generates differential equations for the staggered strategy,\n",
    "    where the population is divided into two groups that are at lockdown/work\n",
    "    on staggered schedules. \n",
    "    @X: - the shape of the erlang distribution\n",
    "    @leakage: fraction of individuals that do not adhere to the lockdown of their group\n",
    "    @phi: density compensation (1- no compensation, 2 - full compensation)\n",
    "    \"\"\"\n",
    "    N_GROUPS = 2\n",
    "    def func(y,t,config,rfuncs,Rw,Rl):\n",
    "        groups = []\n",
    "        for i in range(N_GROUPS):\n",
    "            s = (2*X+2)*i\n",
    "            groups.append ( {\n",
    "                \"S\" : y[s],\n",
    "                \"E_ARR\" : y[s+1:s+1+X],\n",
    "                \"I_ARR\" : y[s+1+X:s+1+X+X],\n",
    "                \"R\" : y[s+1+X+X]\n",
    "            })\n",
    "        Tinc,Tinf = config[\"Tinc\"]/X,config[\"Tinf\"]/X\n",
    "        \n",
    "        dydt = []\n",
    "        # cross leakage\n",
    "        I_ALL = sum([sum(groups[j][\"I_ARR\"]) for j in range(N_GROUPS)] )\n",
    "        for j in range(N_GROUPS):\n",
    "            Rt = rfuncs[j](t)\n",
    "            Rt_other = rfuncs[(j +1 ) % N_GROUPS](t)\n",
    "            Rw_nl = phi * (Rw - Rl)\n",
    "            Rlock_eff = 2*Rl\n",
    "            S, E_ARR, I_ARR, R = [groups[j][idx] for idx in (\"S\",\"E_ARR\",\"I_ARR\",\"R\")]\n",
    "            I_GRP = sum(I_ARR)\n",
    "            I_OTHER = (I_ALL-I_GRP)\n",
    "            if Rt<1:\n",
    "                GRP_NEW_INFECT = Rlock_eff*I_GRP\n",
    "                \n",
    "                if Rt_other < 1:# no cross infectivity when both groups in lockdown\n",
    "                    DEFECT_NEW_INFECT = 0\n",
    "                    OUTSIDE_DEFECT_NEW_INFECT = 0 \n",
    "                else:\n",
    "                    DEFECT_NEW_INFECT = (leakage**2)*Rw_nl*I_GRP\n",
    "                    OUTSIDE_DEFECT_NEW_INFECT = Rw_nl * leakage * I_OTHER\n",
    "\n",
    "                NEW_INFECTIONS = (GRP_NEW_INFECT + DEFECT_NEW_INFECT + OUTSIDE_DEFECT_NEW_INFECT) * S\n",
    "            else:\n",
    "                # work time\n",
    "                GRP_NEW_INFECT = (Rlock_eff + Rw_nl)  * I_GRP\n",
    "                OUTSIDE_DEFECT_NEW_INFECT = Rw_nl * leakage * I_OTHER\n",
    "                NEW_INFECTIONS = (GRP_NEW_INFECT + OUTSIDE_DEFECT_NEW_INFECT) * S\n",
    "            dydt.append(-(1/X) *  (1/Tinf) * NEW_INFECTIONS)\n",
    "            dydt.append((1/X) *  (1/Tinf) * NEW_INFECTIONS - (1/Tinc)*E_ARR[0])\n",
    "            [dydt.append((1/Tinc)*(E_ARR[i]-E_ARR[i+1])) for i in range(X-1)]\n",
    "            dydt.append((1/Tinc)*E_ARR[-1] - (1/Tinf)*I_ARR[0])\n",
    "            [dydt.append((1/Tinf)*(I_ARR[i]-I_ARR[i+1])) for i in range(X-1)]\n",
    "            dydt.append((1/Tinf) * I_ARR[-1])\n",
    "            \n",
    "        return dydt\n",
    "    y0 = []\n",
    "    for j in range(N_GROUPS):\n",
    "        y0.append((1-INIT_SUSCEPTIBLE)/N_GROUPS)\n",
    "        y0 = y0 + [((INIT_SUSCEPTIBLE/2)/X)/N_GROUPS for i in range(2*X)]\n",
    "        y0.append(0)\n",
    "    \n",
    "    return func,y0\n",
    "\n",
    "def run(model,config,y0,period,lockdown,Rw,Rl,tmax=30*4):\n",
    "    \"\"\"\n",
    "    solves the model @model with initial conditions @y0 and using parameter config @config,\n",
    "    with a cyclic strategy of total period @period and lockdown period @lockdown (e.g. period=14,lockdown=10)\n",
    "    @Rw is work days viral reproduction rate and @Rl is lockdown days viral reproduction rate.\n",
    "    @tmax is duration of the simulation\n",
    "    \"\"\"\n",
    "    t = np.linspace(1,tmax,tmax)\n",
    "    rfunc = lambda t:  Rw-(Rw-Rl)*((int(t)%period) < lockdown)\n",
    "    rfunc = np.vectorize(rfunc)\n",
    "    sol = odeint(model, y0, t,args=(config,rfunc), atol=1e-12, rtol=1e-12)\n",
    "    \n",
    "    return sol\n",
    "def run_groups(model,config,y0,period,lockdown,offset,Rw,Rl,tmax = 30*4):\n",
    "    \"\"\"\n",
    "    solves a group (staggered) model @model with initial conditions @y0 and using parameter config @config,\n",
    "    with a cyclic strategy of total period @period and lockdown period @lockdown (e.g. period=14,lockdown=10)\n",
    "    @Rw is work days viral reproduction rate and @Rl is lockdown days viral reproduction rate.\n",
    "    @offset is offset between group active periods (usually 1 week)\n",
    "    @tmax is duration of the simulation\n",
    "    \"\"\"\n",
    "    def gen_func(OFF):\n",
    "        return (lambda t:  Rw-(Rw-Rl)*(((int(t)+OFF)%period) < lockdown))\n",
    "    t = np.linspace(1,tmax,tmax)\n",
    "    rfuncs = [gen_func(OFF) for OFF in (0,offset)]\n",
    "    rfuncs = [np.vectorize(rfunc) for rfunc in rfuncs]\n",
    "    sol = odeint(model, y0, t,args=(config,rfuncs,Rw,Rl), atol=1e-12, rtol=1e-12)\n",
    "    \n",
    "    return sol\n",
    "\n"
   ]
  },
  {
   "cell_type": "code",
   "execution_count": 34,
   "metadata": {},
   "outputs": [],
   "source": [
    "from sklearn.linear_model import LinearRegression"
   ]
  },
  {
   "cell_type": "code",
   "execution_count": 118,
   "metadata": {},
   "outputs": [
    {
     "name": "stdout",
     "output_type": "stream",
     "text": [
      "CPU times: user 250 ms, sys: 0 ns, total: 250 ms\n",
      "Wall time: 339 ms\n"
     ]
    },
    {
     "data": {
      "text/plain": [
       "499"
      ]
     },
     "execution_count": 118,
     "metadata": {},
     "output_type": "execute_result"
    },
    {
     "data": {
      "image/png": "[encoded data removed]",
      "text/plain": [
       "<Figure size 432x288 with 1 Axes>"
      ]
     },
     "metadata": {
      "needs_background": "light"
     },
     "output_type": "display_data"
    }
   ],
   "source": [
    "%%time\n",
    "config = {'Tinc': 3, 'Tinf': 4, 'beta': 1/7, 'gamma': 1/7}\n",
    "# S,E1,E2,I1,I2,R = y\n",
    "y0 = [1,1e-6,1e-6,1e-6,1e-6,0]\n",
    "# SEIR_erlang_model(y0,0,config,lambda x: 1.5)\n",
    "tmax=500\n",
    "sol =run(SEIR_erlang_model,config,y0,14,0,1.5,0.6,tmax)\n",
    "plt.plot(sol[:,3:5].sum(axis=1))\n",
    "np.argmax(sol[:,3:5].sum(axis=1))"
   ]
  },
  {
   "cell_type": "code",
   "execution_count": 70,
   "metadata": {},
   "outputs": [],
   "source": [
    "config = {'Tinc': 3, 'Tinf': 4, 'beta': 1/7, 'gamma': 1/7}\n",
    "# S,E1,E2,I1,I2,R = y\n",
    "y0 = [1,1e-6,1e-6,1e-6,1e-6,0]\n",
    "# SEIR_erlang_model(y0,0,config,lambda x: 1.5)\n",
    "tmax=125+19\n",
    "sol =run(SEIR_erlang_model,config,y0,14,10,1.5,0.6,tmax)"
   ]
  },
  {
   "cell_type": "code",
   "execution_count": 165,
   "metadata": {},
   "outputs": [],
   "source": [
    "w_range = np.linspace(1,10,10)#np.logspace(0,2,10)\n",
    "\n",
    "def run_d(days):\n",
    "    y0 = [1,1e-3,1e-3,1e-3,1e-3,0]\n",
    "    c = 3.5*days\n",
    "    l = 2.5*days\n",
    "    tmax=int(9*c)\n",
    "    t = np.linspace(1,tmax,tmax)\n",
    "    config = {'Tinc': 3, 'Tinf': 4, 'beta': 1/7, 'gamma': 1/7}\n",
    "    sol3 =run(SEIR_erlang_model,config,y0,c,l,1.5,0.6,tmax)\n",
    "    linfit = LinearRegression()  \n",
    "#     print(c)\n",
    "    linfit.fit((t[10:]).reshape(-1,1), np.log(sol3[10:,3:5].sum(axis=1).reshape(-1,1))) \n",
    "    return(np.exp(linfit.coef_[0][0]*5))\n",
    "d1 = np.vectorize(run_d)\n",
    "\n",
    "p = d1(w_range)\n",
    "# plt.plot(np.log(run(SEIR_erlang_model,config,y0,42,30,1.5,0.6,350)[:1000,3:5].sum(axis=1)))"
   ]
  },
  {
   "cell_type": "code",
   "execution_count": 109,
   "metadata": {},
   "outputs": [
    {
     "data": {
      "text/plain": [
       "[<matplotlib.lines.Line2D at 0x7fa1755605f8>]"
      ]
     },
     "execution_count": 109,
     "metadata": {},
     "output_type": "execute_result"
    },
    {
     "data": {
      "image/png": "[encoded data removed]",
      "text/plain": [
       "<Figure size 432x288 with 1 Axes>"
      ]
     },
     "metadata": {
      "needs_background": "light"
     },
     "output_type": "display_data"
    }
   ],
   "source": [
    "tmax = tmax=125+19\n",
    "t = np.linspace(1,tmax,tmax)\n",
    "sol3 =run(SEIR_erlang_model,config,y0,350,250,1.5,0.6,tmax)\n",
    "linfit = LinearRegression()  \n",
    "# linfit.fit((t[19:]).reshape(-1,1), np.log(sol3[19:,3:5].sum(axis=1).reshape(-1,1))) \n",
    "# np.exp(linfit.coef_[0][0]*5)\n",
    "plt.plot(t[19:],sol3[19:,3:5].sum(axis=1))"
   ]
  },
  {
   "cell_type": "code",
   "execution_count": 166,
   "metadata": {},
   "outputs": [
    {
     "data": {
      "text/plain": [
       "<matplotlib.collections.LineCollection at 0x7fa174a7e908>"
      ]
     },
     "execution_count": 166,
     "metadata": {},
     "output_type": "execute_result"
    },
    {
     "data": {
      "image/png": "[encoded data removed]",
      "text/plain": [
       "<Figure size 432x288 with 1 Axes>"
      ]
     },
     "metadata": {
      "needs_background": "light"
     },
     "output_type": "display_data"
    }
   ],
   "source": [
    "plt.plot(w_range,p,linewidth=2,label='$R_W$=1.5;$R_L$=0.6')\n",
    "plt.hlines((1.5*4+0.6*10)/14,1,10)\n",
    "plt.hlines((1.5**4*0.6**10)**(1/14),1,10)\n",
    "# plt.xscale('log')\n"
   ]
  },
  {
   "cell_type": "code",
   "execution_count": 74,
   "metadata": {},
   "outputs": [
    {
     "name": "stdout",
     "output_type": "stream",
     "text": [
      "[[0.94610407]]\n",
      "1.0\n"
     ]
    },
    {
     "data": {
      "image/png": "[encoded data removed]",
      "text/plain": [
       "<Figure size 432x288 with 1 Axes>"
      ]
     },
     "metadata": {
      "needs_background": "light"
     },
     "output_type": "display_data"
    }
   ],
   "source": [
    "config = {'Tinc': 1, 'Tinf': 4, 'beta': 1/7, 'gamma': 1/7}\n",
    "# S,E1,E2,I1,I2,R = y\n",
    "y0 = [1,1e-6,1e-6,1e-6,1e-6,0]\n",
    "# SEIR_erlang_model(y0,0,config,lambda x: 1.5)\n",
    "tmax=125+19\n",
    "sol =run(SEIR_erlang_model,config,y0,14,10,1.5,0.6,tmax)\n",
    "config2 = {'Tinc': 2, 'Tinf': 4, 'beta': 1/7, 'gamma': 1/7}\n",
    "sol2 =run(SEIR_erlang_model,config2,y0,14,10,1.5,0.6,tmax)\n",
    "config3 = {'Tinc': 3, 'Tinf': 4, 'beta': 1/7, 'gamma': 1/7}\n",
    "sol3 =run(SEIR_erlang_model,config3,y0,14,10,2,0.6,tmax)\n",
    "#     run(model,config,y0,period,lockdown,Rw,Rl,tmax=30*4):\n",
    "t = np.linspace(1,tmax,tmax)\n",
    "plt.plot(t,(sol3[:,3:5].sum(axis=1))/0.002*3.25)\n",
    "# plt.plot(t,np.log(sol2[:,3:5].sum(axis=1)))\n",
    "# plt.plot(t,np.log(sol3[:,3:5].sum(axis=1)))\n",
    "linfit = LinearRegression()  \n",
    "linfit.fit((t[19:]).reshape(-1,1), np.log(sol3[19:,3:5].sum(axis=1).reshape(-1,1))) \n",
    "print(np.exp(linfit.coef_*5))\n",
    "# plt.xlim([0,12*7])\n",
    "# plt.ylim([0,4])\n",
    "print((2*4+0.6*10)/14)"
   ]
  },
  {
   "cell_type": "code",
   "execution_count": 41,
   "metadata": {},
   "outputs": [
    {
     "data": {
      "text/plain": [
       "array([3.        , 4.52001412, 4.65898048, 4.34548463, 3.94518589,\n",
       "       3.54882137, 3.17947335, 2.84293499, 2.53942164, 2.26708061,\n",
       "       2.23022681, 2.60115563, 3.15883951, 3.8587354 , 4.33656807,\n",
       "       4.19277739, 3.84366265, 3.46612739, 3.10645898, 2.77631938,\n",
       "       2.47778484, 2.20973174, 1.9699014 , 1.75571512, 1.72367431,\n",
       "       2.00535878, 2.42967157, 2.96155466, 3.32270532, 3.20894477,\n",
       "       2.93869238, 2.64726736, 2.37006355, 2.11594721, 1.88643595,\n",
       "       1.68059952, 1.49664577, 1.33254598, 1.30635303, 1.51700988,\n",
       "       1.83476839, 2.23272529, 2.50180688, 2.41410561, 2.20905385,\n",
       "       1.98840797, 1.77877487, 1.58678972, 1.41355255, 1.25832284,\n",
       "       1.1197157 , 0.99617326, 0.97553954, 1.13126588, 1.36642244,\n",
       "       1.66073699, 1.85910987, 1.79280276, 1.63956033, 1.47492433,\n",
       "       1.31864207, 1.1756211 , 1.04665484, 0.9311705 , 0.82811914,\n",
       "       0.73632612, 0.72049751, 0.83464358, 1.00715617, 1.22296539,\n",
       "       1.36808123, 1.31866982, 1.20543163, 1.08391552, 0.96863949,\n",
       "       0.86320216, 0.76817419, 0.68312175, 0.60726209, 0.5397216 ,\n",
       "       0.52780847, 0.61096059, 0.73671082, 0.89396783, 0.99952766,\n",
       "       0.96309695, 0.88011326, 0.79113885, 0.70677326, 0.62963871,\n",
       "       0.56014503, 0.4979686 , 0.44253174, 0.39319121, 0.38434711,\n",
       "       0.44464998, 0.53588858, 0.64995911, 0.72643227, 0.6997804 ,\n",
       "       0.63933708, 0.57457021, 0.51317929, 0.45706641, 0.40652562,\n",
       "       0.36131821, 0.32102123, 0.28516456, 0.27866325, 0.32225408,\n",
       "       0.38823025, 0.47070204, 0.52594013, 0.50655224, 0.46272135,\n",
       "       0.41577618, 0.37128907, 0.33063521, 0.29402547, 0.26128519])"
      ]
     },
     "execution_count": 41,
     "metadata": {},
     "output_type": "execute_result"
    }
   ],
   "source": [
    "sol[:,3:5].sum(axis=1)/0.002*3"
   ]
  },
  {
   "cell_type": "markdown",
   "metadata": {},
   "source": [
    "# Model range"
   ]
  },
  {
   "cell_type": "code",
   "execution_count": null,
   "metadata": {},
   "outputs": [],
   "source": [
    "def test_epidemic_suppression(callback,success_callback,Rw,Rl):\n",
    "    \"\"\"\n",
    "    Here we test for a range of reproductive rates @Rw and @Rl whether the epidemic is\n",
    "    suppressed. A metric for the model is outputted by a callback @callback, and whether \n",
    "    this led to successful suppression of the epidemic is tested by another callback\n",
    "    \"\"\"\n",
    "    Rw_,Rl_ = np.meshgrid(Rw,Rl)\n",
    "    # estimate output\n",
    "    out = callback(Rw_,Rl_)\n",
    "    \n",
    "    # test for success\n",
    "    df = pd.DataFrame(success_callback(out))\n",
    "    for idx,row in df.iterrows():\n",
    "        if row.min()==1:\n",
    "            continue\n",
    "        df.iloc[idx,row.idxmin()+1:]=False\n",
    "    out = df.values\n",
    "    \n",
    "    # calculate and return contour line which represents the range in which the strategy is successful\n",
    "    cs = plt.contour((1*(~out)),levels=[1])\n",
    "    paths = cs.collections[0].get_paths()\n",
    "    if len(paths)==0:\n",
    "        return np.array([(Rw_[0][i],Rl_.max()) for i in range(out.shape[0])])\n",
    "    path_ = paths[0]\n",
    "    path = np.array([(Rw_[0][i],Rl_.max()) for i in range(path_.vertices[0][0].astype(int))] + \n",
    "                    [(Rw_[0][z.astype(int)[0]],Rl_[:,0][z.astype(int)[1]]) for z in path_.vertices])\n",
    "    return path\n",
    "\n",
    "def gen_diffeq_callback(model,config,y0,period,lockdown):\n",
    "    \"\"\"\n",
    "    callback estimates model and returns the day with maximal numbers of individuals infected\n",
    "    \"\"\"\n",
    "    @np.vectorize\n",
    "    def func(Rw,Rl): \n",
    "        return np.argmax(run(model=model,config=config,y0=y0,period=period,lockdown=lockdown,Rw=Rw,Rl=Rl)[:,-2])\n",
    "    return func\n",
    "\n",
    "def gen_diffeq_callback_groups(model,config,y0,period,lockdown):\n",
    "    \"\"\"\n",
    "    callback estimates model with 2 groups in antiphase and returns the day \n",
    "    with maximal numbers of individuals infected\n",
    "    \"\"\"    \n",
    "    @np.vectorize\n",
    "    def func(Rw,Rl): \n",
    "        return np.argmax(run_groups(model=model,config=config,y0=y0,\n",
    "                                    period=period,lockdown=lockdown,offset = lockdown/2,Rw=Rw,Rl=Rl)[:,-2])\n",
    "    return func\n",
    "\n",
    "def gen_diffeq_success_callback(period):\n",
    "    \"\"\"the success criteria is that the maximal number of infected individuals occurs within the first period\"\"\"\n",
    "    success = lambda out: out<=2*period\n",
    "    return success\n",
    "\n",
    "def gen_diffeq_groups_success_callback(period):\n",
    "    \"\"\"the success criteria is that the maximal number of infected individuals occurs within the first period\"\"\"\n",
    "    success = lambda out: out<=2*period\n",
    "    return success\n",
    "\n"
   ]
  },
  {
   "cell_type": "code",
   "execution_count": null,
   "metadata": {},
   "outputs": [],
   "source": [
    "def do_interpolate(yy,Rw,Rl,k=None):\n",
    "    if type(k)==type(None):\n",
    "        tck = interpolate.splrep(yy[:,0], yy[:,1], s=1)\n",
    "    else:\n",
    "        tck = interpolate.splrep(yy[:,0], yy[:,1], s=1,k=k)\n",
    "    xnew = np.linspace(.9, .01+Rw.max(), 100)\n",
    "    ynew = interpolate.splev(xnew, tck, der=0)\n",
    "    xnew_filt = (xnew>=.999*Rw.min()) &(xnew<=Rw.max()+1)\n",
    "    ynew,xnew = ynew[xnew_filt],xnew[xnew_filt]\n",
    "    return xnew,ynew   \n",
    "\n",
    "def generate_sensitivity_plot(model,y0,Rw,Rl,period,lockdown_days,config,\n",
    "                              confidence_interval_params=None,k=None,\n",
    "                              suffix=\"\",\n",
    "                              callback=gen_diffeq_callback,\n",
    "                              success_callback=gen_diffeq_success_callback):\n",
    "\n",
    "    \n",
    "    y = []\n",
    "    for lockdown in tqdm.tqdm(lockdown_days):\n",
    "        callback_ = callback(model,config,y0,period,lockdown)\n",
    "        success_callback_ = success_callback(period)\n",
    "        y.append(test_epidemic_suppression(callback_,success_callback_,Rw,Rl))\n",
    "    if not type(confidence_interval_params)==type(None):\n",
    "        lockdown = confidence_interval_params[\"lockdown\"]\n",
    "        conf_combs = []\n",
    "        for i in confidence_interval_params[\"tinc_scale\"]:\n",
    "            for j in confidence_interval_params[\"tinf_scale\"]:\n",
    "                config_ = {'Tinc': config[\"Tinc\"]*i, 'Tinf': config[\"Tinf\"]*j}\n",
    "                callback = gen_diffeq_callback(model,config_,y0,period,lockdown)\n",
    "                success_callbck = gen_diffeq_success_callback(period)\n",
    "                conf_combs.append(test_epidemic_suppression(callback,success_callbck,Rw,Rl))\n",
    "    else:\n",
    "        conf_combs = None\n",
    "    \n",
    "    model_name = model.__str__().split(\" \")[1]\n",
    "    output_sensitivity_plot(y,Rw,Rl,period,model_name,suffix,k,conf=conf_combs)\n",
    "    return y\n",
    "\n",
    "def output_sensitivity_plot(y,Rw,Rl,period,model_name=\"\",suffix=\"\",k=None,conf=None):\n",
    "\n",
    "    ax,fig=init_fig(aspect=(4,4),fontsize=12)\n",
    "    colors=plt.cm.Blues_r(np.linspace(0,1,len(y)+2))\n",
    "    ax.fill_between([Rw.max(),Rw.min()],[1,1],color=colors[len(y)-1])\n",
    "    for i in range(len(y)):\n",
    "        yy = y[::-1][i]\n",
    "        yy = np.array(yy)\n",
    "        xnew,ynew = do_interpolate(yy,Rw,Rl,k)\n",
    "        if ynew[0]<0:\n",
    "            xnew,ynew = do_interpolate(yy,Rw,k=1)\n",
    "        ax.fill_between(xnew,ynew,color=colors[i],interpolate=True)\n",
    "    \n",
    "    if not type(conf)==type(None):\n",
    "        base = pd.concat([pd.DataFrame(x,columns=(\"X\",\"Y\")) for x in conf])\n",
    "        xnew_max,ymax = do_interpolate(base.groupby(\"X\").max().reset_index().values,Rw,k)\n",
    "        xnew_min,ymin = do_interpolate(base.groupby(\"X\").min().reset_index().values,Rw,k)\n",
    "        comb = pd.merge(pd.DataFrame({\"X\": xnew_min,\"Ymin\" : ymin}),pd.DataFrame({\"X\": xnew_max,\"Ymax\" : ymax}),on=\"X\")\n",
    "        ax.fill_between(comb.X,y1=comb.Ymin,y2=comb.Ymax,color='gray',alpha=0.5)\n",
    "\n",
    "    ax.set_ylim(Rl.max(),Rl.min())\n",
    "    ax.set_xlim(Rw.max(),0.75)\n",
    "    ax.set_ylabel(\"R (lockdown)\")\n",
    "    ax.set_xlabel(\"R (work days)\")\n",
    "    ax.vlines(1,0,1,linestyle='dashed')\n",
    "    ax.fill_between([0,1],[1,1],color=colors[-1],interpolate=True)\n",
    "\n",
    "    plt.tight_layout()\n",
    "    \n",
    "    plt.savefig(os.path.join(BASE_DIR,\"plots\",\"contures_%s_%s_%s%s.pdf\" % (PERIOD,len(y),model_name,suffix)))\n"
   ]
  },
  {
   "cell_type": "code",
   "execution_count": null,
   "metadata": {},
   "outputs": [],
   "source": [
    "config = {'Tinc': 3, 'Tinf': 4, 'beta': 1/7, 'gamma': 1/7}\n",
    "\n",
    "RES = 20\n",
    "PERIOD = 14\n",
    "Rw = np.linspace(1,3,RES)\n",
    "Rl = np.linspace(0,1-1e-6,RES)\n",
    "\n",
    "lockdown_days = [10,11,12,13,14]\n",
    "y=generate_sensitivity_plot(SEIR_erlang_model,SEIR_erlang_y0,Rw,Rl,period=PERIOD,\n",
    "                            lockdown_days=lockdown_days,config=config)\n"
   ]
  },
  {
   "cell_type": "code",
   "execution_count": null,
   "metadata": {},
   "outputs": [],
   "source": [
    "# Gnerate for all work days\n",
    "lockdown_days = range(3,15)\n",
    "y=generate_sensitivity_plot(SEIR_erlang_model,SEIR_erlang_y0,Rw,Rl,period=PERIOD,\n",
    "                            lockdown_days=lockdown_days,config=config,k=1)"
   ]
  },
  {
   "cell_type": "code",
   "execution_count": null,
   "metadata": {},
   "outputs": [],
   "source": [
    "# Generate the same plot for SIR model\n",
    "config = {'Tinc': 3, 'Tinf': 4, 'beta': 1/7, 'gamma': 1/7}\n",
    "\n",
    "RES = 20\n",
    "PERIOD = 14\n",
    "Rw = np.linspace(1,3,RES)\n",
    "Rl = np.linspace(0,1-1e-6,RES)\n",
    "lockdown_days = [10,11,12,13,14]\n",
    "\n",
    "_=generate_sensitivity_plot(SIR_model,SIR_y0,Rw,Rl,period=PERIOD,\n",
    "                            lockdown_days=lockdown_days,config=config,k=1)"
   ]
  },
  {
   "cell_type": "code",
   "execution_count": null,
   "metadata": {},
   "outputs": [],
   "source": [
    "config = {'Tinc': 3, 'Tinf': 4, 'beta': 1/7, 'gamma': 1/7}\n",
    "\n",
    "RES = 20\n",
    "PERIOD = 14\n",
    "Rw = np.linspace(1,3,RES)\n",
    "Rl = np.linspace(0,1-1e-6,RES)\n",
    "lockdown_days = (10,11,12,13,14)\n",
    "\n",
    "\n",
    "# staggered model\n",
    "for rho in (0.1,0.3):\n",
    "    for phi in (1,1.5):\n",
    "        model,y0 = get_erlang_X_2_groups(2,leakage=rho,phi=phi)\n",
    "        y=generate_sensitivity_plot(\n",
    "            model,y0,Rw,Rl,period=PERIOD,lockdown_days = lockdown_days,\n",
    "            config=config,suffix=\"STAGGERED_%.2f_%.2f\" % (rho,phi),\n",
    "            callback=gen_diffeq_callback_groups,\n",
    "            success_callback=gen_diffeq_groups_success_callback)\n"
   ]
  },
  {
   "cell_type": "code",
   "execution_count": null,
   "metadata": {},
   "outputs": [],
   "source": [
    "config = {'Tinc': 3, 'Tinf': 4, 'beta': 1/7, 'gamma': 1/7}\n",
    "\n",
    "RES = 10\n",
    "PERIOD = 14\n",
    "Rw = np.linspace(1,3,RES)\n",
    "Rl = np.linspace(0,1-1e-6,RES)\n",
    "lockdown_days = (10,11,12,13,14)\n",
    "\n",
    "\n",
    "# staggered model\n",
    "for rho in (0.1,0.3):\n",
    "    for phi in (1,1.5):\n",
    "        model,y0 = get_erlang_X_2_groups(2,leakage=rho,phi=phi)\n",
    "        y=generate_sensitivity_plot(\n",
    "            model,y0,Rw,Rl,period=PERIOD,lockdown_days = lockdown_days,\n",
    "            config=config,suffix=\"STAGGERED_%.2f_%.2f\" % (rho,phi),\n",
    "            callback=gen_diffeq_callback_groups,\n",
    "            success_callback=gen_diffeq_groups_success_callback,k=1)\n"
   ]
  },
  {
   "cell_type": "code",
   "execution_count": null,
   "metadata": {},
   "outputs": [],
   "source": [
    "#confidence intervals\n",
    "conf_parms = {\"lockdown\" : 10, \"tinc_scale\" : (2.5/3,1,4/3), \"tinf_scale\" : (3/4,1,8/4)}\n",
    "RES = 20\n",
    "PERIOD = 14\n",
    "Rw = np.linspace(1,3,RES)\n",
    "Rl = np.linspace(0,1-1e-6,RES)\n",
    "\n",
    "_=generate_sensitivity_plot(SEIR_erlang_model,SEIR_erlang_y0,Rw,Rl,period=PERIOD,\n",
    "                            lockdown_days=(10,14),config=config,suffix=\"TEST\",\n",
    "                            confidence_interval_params=conf_parms)"
   ]
  },
  {
   "cell_type": "markdown",
   "metadata": {},
   "source": [
    "# Social network"
   ]
  },
  {
   "cell_type": "code",
   "execution_count": null,
   "metadata": {},
   "outputs": [],
   "source": [
    "def graph_run(G,config,weight_attr='weight_const',period=7,lockdown=0,tmax=30*4,INIT_NUM=50):\n",
    "    ERLANG_SHAPE = 2\n",
    "    I = set([list(G.nodes())[i] for i in np.random.choice(range(len(list(G.nodes()))),INIT_NUM)])\n",
    "    S = set(list(G.nodes())).difference(I)\n",
    "    E = set()\n",
    "    R = set()\n",
    "    \n",
    "    EXPOSE_TIME = dict()\n",
    "    INFECT_TIME = dict()\n",
    "    for i in I:\n",
    "        INFECT_TIME[i] = erlang.rvs(a=ERLANG_SHAPE,scale=config[\"Tinf\"]/ERLANG_SHAPE)\n",
    "    sol=[]\n",
    "    for day in range(tmax):\n",
    "        \n",
    "        I_new = set()\n",
    "        E_new = set()\n",
    "        R_new = set()\n",
    "        \n",
    "        # new infecting\n",
    "        for e in E:\n",
    "            if EXPOSE_TIME[e]-day <= 0:\n",
    "                I_new.add(e)\n",
    "                INFECT_TIME[e] = day + erlang.rvs(a=ERLANG_SHAPE,scale=config[\"Tinf\"]/ERLANG_SHAPE)\n",
    "        for i in I:\n",
    "            in_isolation = (((day%period) < lockdown))\n",
    "            # new exposed\n",
    "            for neighbor in G.neighbors(i):\n",
    "                if in_isolation and not G.get_edge_data(i,neighbor)['lockdown_neighbor']:\n",
    "                    continue\n",
    "                \n",
    "                if neighbor in S and np.random.rand() < G.get_edge_data(i,neighbor)[weight_attr]:\n",
    "                    E_new.add(neighbor)\n",
    "                    EXPOSE_TIME[neighbor] = day + erlang.rvs(a=ERLANG_SHAPE,scale=config[\"Tinc\"]/ERLANG_SHAPE)\n",
    "            # new recovered\n",
    "            \n",
    "            if INFECT_TIME[i]-day <=0:\n",
    "                R_new.add(i)\n",
    "\n",
    "                \n",
    "        S = S.difference(E_new)\n",
    "        E = E.union(E_new).difference(I_new)\n",
    "        I = I.union(I_new).difference(R_new)\n",
    "        R = R.union(R_new)\n",
    "        sol.append(np.array([len(x) for x in (S,E,I,R)]))\n",
    "\n",
    "    return np.array(sol)\n",
    "\n",
    "def calculate_graph_sol(G,mode,config,period,lockdown,INIT_NUM=50,iterations=10,tmax=30*4):\n",
    "    sol = [graph_run(G,config,weight_attr=mode,\n",
    "                    period=period,lockdown=lockdown,INIT_NUM=INIT_NUM,tmax=tmax)\n",
    "               for j in range(iterations)]\n",
    "    sol=np.mean(sol,axis=0)\n",
    "    return sol"
   ]
  },
  {
   "cell_type": "code",
   "execution_count": null,
   "metadata": {},
   "outputs": [],
   "source": [
    "def load_small_world_graph(config,N = 10000,k=16,Rw=1.5,Rl=0.6):\n",
    "    beta=1-Rl/Rw\n",
    "    G = nx.watts_strogatz_graph(N,k,beta)\n",
    "    attrs = dict()\n",
    "    for edge in G.edges():\n",
    "        attrs[edge] = {\"weight_exp\" : np.random.exponential(1.7*Rw/((k)*config[\"Tinf\"])),\n",
    "                       \"weight_const\" : Rw/(k*config[\"Tinf\"]),\n",
    "                       \"lockdown_neighbor\" : np.abs(edge[0]-edge[1]) <= k/2}\n",
    "    nx.set_edge_attributes(G,attrs)    \n",
    "    \n",
    "    return G\n",
    "\n"
   ]
  },
  {
   "cell_type": "code",
   "execution_count": null,
   "metadata": {},
   "outputs": [],
   "source": [
    "def gen_graph_callback(config,period,lockdown,INIT_NUM):\n",
    "    @np.vectorize\n",
    "    def func(Rw,Rl): \n",
    "        G = load_small_world_graph(config,Rw=Rw,Rl=Rl)\n",
    "        #G = load_GNM_graph(config,Rw=Rw,Rl=Rl)\n",
    "        sol = calculate_graph_sol(G,'weight_const',config,period=period,lockdown=lockdown,iterations=10,tmax=6*30)\n",
    "        return sol[:,-2].argmax()\n",
    "    return func\n",
    "\n",
    "def gen_graph_success_callback(INIT_NUM,PERIOD):\n",
    "    success = lambda out: out<=PERIOD\n",
    "    return success"
   ]
  },
  {
   "cell_type": "code",
   "execution_count": null,
   "metadata": {},
   "outputs": [],
   "source": [
    "RES = 10\n",
    "PERIOD = 14\n",
    "ISOLATION = 5\n",
    "INIT_NUM=50\n",
    "Rf = np.linspace(1,3,RES)\n",
    "Rl = np.linspace(0,1,RES)\n",
    "lockdown_days = (10,12,14)\n",
    "\n",
    "y = []\n",
    "for lockdown in tqdm.tqdm(lockdown_days):\n",
    "    callback = gen_graph_callback(config,PERIOD,lockdown,INIT_NUM)\n",
    "    success_callbck = gen_graph_success_callback(INIT_NUM,PERIOD)\n",
    "    y.append(test_epidemic_suppression(callback,success_callbck,Rw,Rl))\n",
    "\n",
    "\n",
    "output_sensitivity_plot(y,Rw,Rl,PERIOD)"
   ]
  }
 ],
 "metadata": {
  "kernelspec": {
   "display_name": "Python 3",
   "language": "python",
   "name": "python3"
  },
  "language_info": {
   "codemirror_mode": {
    "name": "ipython",
    "version": 3
   },
   "file_extension": ".py",
   "mimetype": "text/x-python",
   "name": "python",
   "nbconvert_exporter": "python",
   "pygments_lexer": "ipython3",
   "version": "3.6.8"
  }
 },
 "nbformat": 4,
 "nbformat_minor": 4
}
